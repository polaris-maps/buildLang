{
 "cells": [
  {
   "cell_type": "code",
   "execution_count": 1,
   "metadata": {},
   "outputs": [],
   "source": [
    "DB_PATH: str = \"./test.db\"\n",
    "\n",
    "import sqlite3\n",
    "db = sqlite3.Connection(DB_PATH)\n",
    "cursor = db.cursor()"
   ]
  },
  {
   "cell_type": "code",
   "execution_count": 2,
   "metadata": {},
   "outputs": [
    {
     "data": {
      "text/plain": [
       "<sqlite3.Cursor at 0x105506ab0>"
      ]
     },
     "execution_count": 2,
     "metadata": {},
     "output_type": "execute_result"
    }
   ],
   "source": [
    "create_tables = \"\"\"\n",
    "    DROP TABLE IF EXISTS Buildings;\n",
    "    DROP TABLE IF EXISTS Nodes;\n",
    "    DROP TABLE IF EXISTS Position;\n",
    "    DROP TABLE IF EXISTS Edges;\n",
    "    DROP TABLE IF EXISTS Building_Sources_Nodes;\n",
    "\n",
    "\n",
    "    CREATE TABLE Buildings\n",
    "        (building_id INTEGER PRIMARY KEY AUTOINCREMENT,\n",
    "        name TEXT NOT NULL);\n",
    "    CREATE TABLE Nodes\n",
    "        (node_id INTEGER PRIMARY KEY AUTOINCREMENT,\n",
    "        record_number TEXT,\n",
    "        name TEXT,\n",
    "        node_type TEXT);\n",
    "    CREATE TABLE Edges\n",
    "        (edge_id INTEGER PRIMARY KEY AUTOINCREMENT,\n",
    "        source_node INTEGER REFERENCES Nodes(node_id) NOT NULL,\n",
    "        target_node INTEGER REFERENCES Nodes(node_id) NOT NULL,\n",
    "        source_side INTEGER,\n",
    "        source_rank FLOAT);\n",
    "\"\"\"\n",
    "cursor.executescript(create_tables)"
   ]
  },
  {
   "cell_type": "code",
   "execution_count": 3,
   "metadata": {},
   "outputs": [
    {
     "name": "stdout",
     "output_type": "stream",
     "text": [
      "Here are the tables in the database:\n",
      "Buildings\n",
      "Nodes\n",
      "Edges\n"
     ]
    }
   ],
   "source": [
    "cursor.execute('''\n",
    "               SELECT name\n",
    "               FROM sqlite_master\n",
    "               WHERE type='table' AND\n",
    "                     name NOT LIKE 'sqlite_%' ''')\n",
    "table_names = cursor.fetchall()\n",
    "\n",
    "# List table names\n",
    "print(\"Here are the tables in the database:\")\n",
    "for name in table_names:\n",
    "    print(name[0])"
   ]
  },
  {
   "cell_type": "code",
   "execution_count": 5,
   "metadata": {},
   "outputs": [
    {
     "data": {
      "text/plain": [
       "<sqlite3.Cursor at 0x105506ab0>"
      ]
     },
     "execution_count": 5,
     "metadata": {},
     "output_type": "execute_result"
    }
   ],
   "source": [
    "populate_buildings = \"\"\"\n",
    "INSERT INTO Buildings (name) VALUES (\"fred_brooks\");\n",
    "INSERT INTO Nodes (name, node_type) VALUES (\"hallway_1\", \"room\");\n",
    "INSERT INTO Nodes (name, node_type) VALUES (\"sitterson.0.hallway_1\", \"room\");\n",
    "INSERT INTO Nodes (name, node_type) VALUES (\"sitterson.0.hallway_1 door\", \"door\");\n",
    "INSERT INTO Edges (source_node, target_node, source_side, source_rank) VALUES (2, 3, 0, 0);\n",
    "INSERT INTO Edges (source_node, target_node, source_side, source_rank) VALUES (1, 3, 1, 1);\n",
    "INSERT INTO Nodes (name, node_type) VALUES (\"003\", \"room\");\n",
    "INSERT INTO Nodes (name, node_type) VALUES (\"003 door\", \"door\");\n",
    "INSERT INTO Edges (source_node, target_node, source_side, source_rank) VALUES (4, 5, 0, 0);\n",
    "INSERT INTO Edges (source_node, target_node, source_side, source_rank) VALUES (1, 5, 2, 1);\n",
    "INSERT INTO Nodes (name, node_type) VALUES (\"007\", \"room\");\n",
    "INSERT INTO Nodes (name, node_type) VALUES (\"007 door\", \"door\");\n",
    "INSERT INTO Edges (source_node, target_node, source_side, source_rank) VALUES (6, 7, 0, 0);\n",
    "INSERT INTO Edges (source_node, target_node, source_side, source_rank) VALUES (1, 7, 2, 2);\n",
    "INSERT INTO Nodes (name, node_type) VALUES (\"007B\", \"room\");\n",
    "INSERT INTO Nodes (name, node_type) VALUES (\"007B door\", \"door\");\n",
    "INSERT INTO Edges (source_node, target_node, source_side, source_rank) VALUES (8, 9, 0, 0);\n",
    "INSERT INTO Edges (source_node, target_node, source_side, source_rank) VALUES (1, 9, 2, 3);\n",
    "INSERT INTO Nodes (name, node_type) VALUES (\"007\", \"room\");\n",
    "INSERT INTO Nodes (name, node_type) VALUES (\"007 door\", \"door\");\n",
    "INSERT INTO Edges (source_node, target_node, source_side, source_rank) VALUES (10, 11, 0, 0);\n",
    "INSERT INTO Edges (source_node, target_node, source_side, source_rank) VALUES (1, 11, 2, 4);\n",
    "INSERT INTO Nodes (name, node_type) VALUES (\"hallway_2\", \"room\");\n",
    "INSERT INTO Edges (source_node, target_node, source_side, source_rank) VALUES (1, 12, 3, 1);\n",
    "INSERT INTO Nodes (name, node_type) VALUES (\"008\", \"room\");\n",
    "INSERT INTO Nodes (name, node_type) VALUES (\"008 door\", \"door\");\n",
    "INSERT INTO Edges (source_node, target_node, source_side, source_rank) VALUES (13, 14, 0, 0);\n",
    "INSERT INTO Edges (source_node, target_node, source_side, source_rank) VALUES (1, 14, 4, 1);\n",
    "INSERT INTO Nodes (name, node_type) VALUES (\"002\", \"room\");\n",
    "INSERT INTO Nodes (name, node_type) VALUES (\"002 door\", \"door\");\n",
    "INSERT INTO Edges (source_node, target_node, source_side, source_rank) VALUES (15, 16, 0, 0);\n",
    "INSERT INTO Edges (source_node, target_node, source_side, source_rank) VALUES (1, 16, 4, 2);\n",
    "INSERT INTO Nodes (name, node_type) VALUES (\"stairs_1\", \"room\");\n",
    "INSERT INTO Nodes (name, node_type) VALUES (\"stairs_1 door\", \"door\");\n",
    "INSERT INTO Edges (source_node, target_node, source_side, source_rank) VALUES (17, 18, 0, 0);\n",
    "INSERT INTO Edges (source_node, target_node, source_side, source_rank) VALUES (1, 18, 4, 3);\n",
    "INSERT INTO Nodes (name, node_type) VALUES (\"hallway_2\", \"room\");\n",
    "INSERT INTO Nodes (name, node_type) VALUES (\"exit\", \"room\");\n",
    "INSERT INTO Nodes (name, node_type) VALUES (\"exit door\", \"door\");\n",
    "INSERT INTO Edges (source_node, target_node, source_side, source_rank) VALUES (20, 21, 0, 0);\n",
    "INSERT INTO Edges (source_node, target_node, source_side, source_rank) VALUES (19, 21, 1, 1);\n",
    "INSERT INTO Nodes (name, node_type) VALUES (\"exit\", \"room\");\n",
    "INSERT INTO Nodes (name, node_type) VALUES (\"exit door\", \"door\");\n",
    "INSERT INTO Edges (source_node, target_node, source_side, source_rank) VALUES (22, 23, 0, 0);\n",
    "INSERT INTO Edges (source_node, target_node, source_side, source_rank) VALUES (19, 23, 1, 2);\n",
    "INSERT INTO Nodes (name, node_type) VALUES (\"exit\", \"room\");\n",
    "INSERT INTO Nodes (name, node_type) VALUES (\"exit door\", \"door\");\n",
    "INSERT INTO Edges (source_node, target_node, source_side, source_rank) VALUES (24, 25, 0, 0);\n",
    "INSERT INTO Edges (source_node, target_node, source_side, source_rank) VALUES (19, 25, 1, 3);\n",
    "INSERT INTO Nodes (name, node_type) VALUES (\"hallway_3\", \"room\");\n",
    "INSERT INTO Edges (source_node, target_node, source_side, source_rank) VALUES (19, 26, 2, 1);\n",
    "INSERT INTO Nodes (name, node_type) VALUES (\"009\", \"room\");\n",
    "INSERT INTO Nodes (name, node_type) VALUES (\"009 door\", \"door\");\n",
    "INSERT INTO Edges (source_node, target_node, source_side, source_rank) VALUES (27, 28, 0, 0);\n",
    "INSERT INTO Edges (source_node, target_node, source_side, source_rank) VALUES (19, 28, 3, 1);\n",
    "INSERT INTO Nodes (name, node_type) VALUES (\"hallway_1\", \"room\");\n",
    "INSERT INTO Edges (source_node, target_node, source_side, source_rank) VALUES (19, 29, 4, 1);\n",
    "INSERT INTO Nodes (name, node_type) VALUES (\"hallway_3\", \"room\");\n",
    "INSERT INTO Nodes (name, node_type) VALUES (\"011\", \"room\");\n",
    "INSERT INTO Nodes (name, node_type) VALUES (\"011 door\", \"door\");\n",
    "INSERT INTO Edges (source_node, target_node, source_side, source_rank) VALUES (31, 32, 0, 0);\n",
    "INSERT INTO Edges (source_node, target_node, source_side, source_rank) VALUES (30, 32, 1, 1);\n",
    "INSERT INTO Nodes (name, node_type) VALUES (\"009\", \"room\");\n",
    "INSERT INTO Nodes (name, node_type) VALUES (\"009 door\", \"door\");\n",
    "INSERT INTO Edges (source_node, target_node, source_side, source_rank) VALUES (33, 34, 0, 0);\n",
    "INSERT INTO Edges (source_node, target_node, source_side, source_rank) VALUES (30, 34, 1, 2);\n",
    "INSERT INTO Nodes (name, node_type) VALUES (\"sitterson.0.hallway_4\", \"room\");\n",
    "INSERT INTO Nodes (name, node_type) VALUES (\"sitterson.0.hallway_4 door\", \"door\");\n",
    "INSERT INTO Edges (source_node, target_node, source_side, source_rank) VALUES (35, 36, 0, 0);\n",
    "INSERT INTO Edges (source_node, target_node, source_side, source_rank) VALUES (30, 36, 2, 1);\n",
    "INSERT INTO Nodes (name, node_type) VALUES (\"stairs_2\", \"room\");\n",
    "INSERT INTO Nodes (name, node_type) VALUES (\"stairs_2 door\", \"door\");\n",
    "INSERT INTO Edges (source_node, target_node, source_side, source_rank) VALUES (37, 38, 0, 0);\n",
    "INSERT INTO Edges (source_node, target_node, source_side, source_rank) VALUES (30, 38, 3, 1);\n",
    "INSERT INTO Nodes (name, node_type) VALUES (\"016\", \"room\");\n",
    "INSERT INTO Nodes (name, node_type) VALUES (\"016 door\", \"door\");\n",
    "INSERT INTO Edges (source_node, target_node, source_side, source_rank) VALUES (39, 40, 0, 0);\n",
    "INSERT INTO Edges (source_node, target_node, source_side, source_rank) VALUES (30, 40, 3, 2);\n",
    "INSERT INTO Nodes (name, node_type) VALUES (\"012\", \"room\");\n",
    "INSERT INTO Nodes (name, node_type) VALUES (\"012 door\", \"door\");\n",
    "INSERT INTO Edges (source_node, target_node, source_side, source_rank) VALUES (41, 42, 0, 0);\n",
    "INSERT INTO Edges (source_node, target_node, source_side, source_rank) VALUES (30, 42, 3, 3);\n",
    "INSERT INTO Nodes (name, node_type) VALUES (\"010\", \"room\");\n",
    "INSERT INTO Nodes (name, node_type) VALUES (\"010 door\", \"door\");\n",
    "INSERT INTO Edges (source_node, target_node, source_side, source_rank) VALUES (43, 44, 0, 0);\n",
    "INSERT INTO Edges (source_node, target_node, source_side, source_rank) VALUES (30, 44, 3, 4);\n",
    "INSERT INTO Nodes (name, node_type) VALUES (\"hallway_2\", \"room\");\n",
    "INSERT INTO Edges (source_node, target_node, source_side, source_rank) VALUES (30, 45, 4, 1);\n",
    "INSERT INTO Nodes (name, node_type) VALUES (\"007\", \"room\");\n",
    "INSERT INTO Nodes (name, node_type) VALUES (\"007A\", \"room\");\n",
    "INSERT INTO Nodes (name, node_type) VALUES (\"007A door\", \"door\");\n",
    "INSERT INTO Edges (source_node, target_node, source_side, source_rank) VALUES (47, 48, 0, 0);\n",
    "INSERT INTO Edges (source_node, target_node, source_side, source_rank) VALUES (46, 48, 1, 1);\n",
    "INSERT INTO Nodes (name, node_type) VALUES (\"hallway_1\", \"room\");\n",
    "INSERT INTO Nodes (name, node_type) VALUES (\"hallway_1 door\", \"door\");\n",
    "INSERT INTO Edges (source_node, target_node, source_side, source_rank) VALUES (49, 50, 0, 0);\n",
    "INSERT INTO Edges (source_node, target_node, source_side, source_rank) VALUES (46, 50, 4, 1);\n",
    "INSERT INTO Nodes (name, node_type) VALUES (\"007B\", \"room\");\n",
    "INSERT INTO Nodes (name, node_type) VALUES (\"007B door\", \"door\");\n",
    "INSERT INTO Edges (source_node, target_node, source_side, source_rank) VALUES (51, 52, 0, 0);\n",
    "INSERT INTO Edges (source_node, target_node, source_side, source_rank) VALUES (46, 52, 4, 2);\n",
    "INSERT INTO Nodes (name, node_type) VALUES (\"hallway_1\", \"room\");\n",
    "INSERT INTO Nodes (name, node_type) VALUES (\"hallway_1 door\", \"door\");\n",
    "INSERT INTO Edges (source_node, target_node, source_side, source_rank) VALUES (53, 54, 0, 0);\n",
    "INSERT INTO Edges (source_node, target_node, source_side, source_rank) VALUES (46, 54, 4, 3);\n",
    "\"\"\"\n",
    "cursor.executescript(populate_buildings)"
   ]
  },
  {
   "cell_type": "code",
   "execution_count": 6,
   "metadata": {},
   "outputs": [],
   "source": [
    "db.commit()"
   ]
  },
  {
   "cell_type": "code",
   "execution_count": 7,
   "metadata": {},
   "outputs": [
    {
     "name": "stdout",
     "output_type": "stream",
     "text": [
      "test-buildLang.html\n"
     ]
    }
   ],
   "source": [
    "import networkx as nx\n",
    "from pyvis.network import Network\n",
    "\n",
    "ALL_NODES = \"\"\"\n",
    "    WITH Source_Node_Info AS (SELECT node_id, name FROM Nodes),\n",
    "        Target_Node_Info AS (SELECT node_id, name FROM Nodes)\n",
    "    SELECT S.name, T.name \n",
    "        FROM Edges E, Source_Node_Info S, Target_Node_Info T\n",
    "        WHERE E.source_node = S.node_id\n",
    "            AND E.target_node = T.node_id\n",
    "        ORDER BY source_node;\n",
    "\"\"\"\n",
    "\n",
    "G = nx.Graph()\n",
    "cursor.execute(ALL_NODES)\n",
    "terms_info = cursor.fetchall()\n",
    "G.add_edges_from(terms_info)\n",
    "nt = Network('750px', '80%', cdn_resources='remote')\n",
    "nt.from_nx(G)\n",
    "nt.show_buttons()\n",
    "nt.show('test-buildLang.html', notebook=False)\n",
    "# nx.write_gml(G, \"test.gml\")"
   ]
  },
  {
   "cell_type": "code",
   "execution_count": null,
   "metadata": {},
   "outputs": [],
   "source": []
  }
 ],
 "metadata": {
  "kernelspec": {
   "display_name": "Python 3",
   "language": "python",
   "name": "python3"
  },
  "language_info": {
   "codemirror_mode": {
    "name": "ipython",
    "version": 3
   },
   "file_extension": ".py",
   "mimetype": "text/x-python",
   "name": "python",
   "nbconvert_exporter": "python",
   "pygments_lexer": "ipython3",
   "version": "3.9.6"
  }
 },
 "nbformat": 4,
 "nbformat_minor": 2
}
