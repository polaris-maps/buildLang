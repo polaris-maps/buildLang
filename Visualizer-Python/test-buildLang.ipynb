{
 "cells": [
  {
   "cell_type": "code",
   "execution_count": 1,
   "metadata": {},
   "outputs": [],
   "source": [
    "DB_PATH: str = \"./test.db\"\n",
    "\n",
    "import sqlite3\n",
    "db = sqlite3.Connection(DB_PATH)\n",
    "cursor = db.cursor()"
   ]
  },
  {
   "cell_type": "code",
   "execution_count": 2,
   "metadata": {},
   "outputs": [
    {
     "data": {
      "text/plain": [
       "<sqlite3.Cursor at 0x1051aa960>"
      ]
     },
     "execution_count": 2,
     "metadata": {},
     "output_type": "execute_result"
    }
   ],
   "source": [
    "create_tables = \"\"\"\n",
    "    DROP TABLE IF EXISTS Buildings;\n",
    "    DROP TABLE IF EXISTS Nodes;\n",
    "    DROP TABLE IF EXISTS Position;\n",
    "    DROP TABLE IF EXISTS Edges;\n",
    "    DROP TABLE IF EXISTS Building_Sources_Nodes;\n",
    "\n",
    "\n",
    "    CREATE TABLE Buildings\n",
    "        (building_id INTEGER PRIMARY KEY AUTOINCREMENT,\n",
    "        name TEXT NOT NULL);\n",
    "    CREATE TABLE Nodes\n",
    "        (node_id INTEGER PRIMARY KEY AUTOINCREMENT,\n",
    "        record_number TEXT,\n",
    "        name TEXT,\n",
    "        node_type TEXT);\n",
    "    CREATE TABLE Edges\n",
    "        (edge_id INTEGER PRIMARY KEY AUTOINCREMENT,\n",
    "        source_node INTEGER REFERENCES Nodes(node_id) NOT NULL,\n",
    "        target_node INTEGER REFERENCES Nodes(node_id) NOT NULL,\n",
    "        source_side INTEGER,\n",
    "        source_rank FLOAT);\n",
    "\"\"\"\n",
    "cursor.executescript(create_tables)"
   ]
  },
  {
   "cell_type": "code",
   "execution_count": 3,
   "metadata": {},
   "outputs": [
    {
     "name": "stdout",
     "output_type": "stream",
     "text": [
      "Here are the tables in the database:\n",
      "Buildings\n",
      "Nodes\n",
      "Edges\n"
     ]
    }
   ],
   "source": [
    "cursor.execute('''\n",
    "               SELECT name\n",
    "               FROM sqlite_master\n",
    "               WHERE type='table' AND\n",
    "                     name NOT LIKE 'sqlite_%' ''')\n",
    "table_names = cursor.fetchall()\n",
    "\n",
    "# List table names\n",
    "print(\"Here are the tables in the database:\")\n",
    "for name in table_names:\n",
    "    print(name[0])"
   ]
  },
  {
   "cell_type": "code",
   "execution_count": 4,
   "metadata": {},
   "outputs": [
    {
     "data": {
      "text/plain": [
       "<sqlite3.Cursor at 0x1051aa960>"
      ]
     },
     "execution_count": 4,
     "metadata": {},
     "output_type": "execute_result"
    }
   ],
   "source": [
    "populate_buildings = \"\"\"\n",
    "INSERT INTO Buildings (name) VALUES (\"small\");\n",
    "INSERT INTO Nodes (name, node_type) VALUES (\"hallway_1\", \"room\");\n",
    "INSERT INTO Nodes (name, node_type) VALUES (\"1\", \"room\");\n",
    "INSERT INTO Nodes (name, node_type) VALUES (\"1 door\", \"door\");\n",
    "INSERT INTO Edges (source_node, target_node, source_side, source_rank) VALUES (2, 3, 0, 0);\n",
    "INSERT INTO Edges (source_node, target_node, source_side, source_rank) VALUES (1, 3, 1, 1);\n",
    "INSERT INTO Nodes (name, node_type) VALUES (\"2\", \"room\");\n",
    "INSERT INTO Nodes (name, node_type) VALUES (\"2 door\", \"door\");\n",
    "INSERT INTO Edges (source_node, target_node, source_side, source_rank) VALUES (4, 5, 0, 0);\n",
    "INSERT INTO Edges (source_node, target_node, source_side, source_rank) VALUES (1, 5, 1, 2);\n",
    "INSERT INTO Nodes (name, node_type) VALUES (\"3\", \"room\");\n",
    "INSERT INTO Nodes (name, node_type) VALUES (\"3 door\", \"door\");\n",
    "INSERT INTO Edges (source_node, target_node, source_side, source_rank) VALUES (6, 7, 0, 0);\n",
    "INSERT INTO Edges (source_node, target_node, source_side, source_rank) VALUES (1, 7, 2, 1);\n",
    "INSERT INTO Nodes (name, node_type) VALUES (\"hallway_2\", \"room\");\n",
    "INSERT INTO Edges (source_node, target_node, source_side, source_rank) VALUES (1, 8, 3, 1);\n",
    "INSERT INTO Nodes (name, node_type) VALUES (\"exit_1\", \"room\");\n",
    "INSERT INTO Nodes (name, node_type) VALUES (\"exit_1 door\", \"door\");\n",
    "INSERT INTO Edges (source_node, target_node, source_side, source_rank) VALUES (9, 10, 0, 0);\n",
    "INSERT INTO Edges (source_node, target_node, source_side, source_rank) VALUES (1, 10, 4, 1);\n",
    "INSERT INTO Nodes (name, node_type) VALUES (\"hallway_2\", \"room\");\n",
    "INSERT INTO Nodes (name, node_type) VALUES (\"4\", \"room\");\n",
    "INSERT INTO Nodes (name, node_type) VALUES (\"4 door\", \"door\");\n",
    "INSERT INTO Edges (source_node, target_node, source_side, source_rank) VALUES (12, 13, 0, 0);\n",
    "INSERT INTO Edges (source_node, target_node, source_side, source_rank) VALUES (11, 13, 1, 1);\n",
    "INSERT INTO Nodes (name, node_type) VALUES (\"5\", \"room\");\n",
    "INSERT INTO Nodes (name, node_type) VALUES (\"5 door\", \"door\");\n",
    "INSERT INTO Edges (source_node, target_node, source_side, source_rank) VALUES (14, 15, 0, 0);\n",
    "INSERT INTO Edges (source_node, target_node, source_side, source_rank) VALUES (11, 15, 2, 1);\n",
    "INSERT INTO Nodes (name, node_type) VALUES (\"6\", \"room\");\n",
    "INSERT INTO Nodes (name, node_type) VALUES (\"6 door\", \"door\");\n",
    "INSERT INTO Edges (source_node, target_node, source_side, source_rank) VALUES (16, 17, 0, 0);\n",
    "INSERT INTO Edges (source_node, target_node, source_side, source_rank) VALUES (11, 17, 2, 2);\n",
    "INSERT INTO Nodes (name, node_type) VALUES (\"hallway_1\", \"room\");\n",
    "INSERT INTO Edges (source_node, target_node, source_side, source_rank) VALUES (11, 18, 3, 1);\n",
    "INSERT INTO Nodes (name, node_type) VALUES (\"exit_2\", \"room\");\n",
    "INSERT INTO Nodes (name, node_type) VALUES (\"exit_2 door\", \"door\");\n",
    "INSERT INTO Edges (source_node, target_node, source_side, source_rank) VALUES (19, 20, 0, 0);\n",
    "INSERT INTO Edges (source_node, target_node, source_side, source_rank) VALUES (11, 20, 4, 1);\n",
    "\"\"\"\n",
    "cursor.executescript(populate_buildings)"
   ]
  },
  {
   "cell_type": "code",
   "execution_count": 5,
   "metadata": {},
   "outputs": [],
   "source": [
    "db.commit()"
   ]
  },
  {
   "cell_type": "code",
   "execution_count": 6,
   "metadata": {},
   "outputs": [
    {
     "name": "stdout",
     "output_type": "stream",
     "text": [
      "test-buildLang.html\n"
     ]
    }
   ],
   "source": [
    "import networkx as nx\n",
    "from pyvis.network import Network\n",
    "\n",
    "ALL_NODES = \"\"\"\n",
    "    WITH Source_Node_Info AS (SELECT node_id, name FROM Nodes),\n",
    "        Target_Node_Info AS (SELECT node_id, name FROM Nodes)\n",
    "    SELECT S.name, T.name \n",
    "        FROM Edges E, Source_Node_Info S, Target_Node_Info T\n",
    "        WHERE E.source_node = S.node_id\n",
    "            AND E.target_node = T.node_id\n",
    "        ORDER BY source_node;\n",
    "\"\"\"\n",
    "\n",
    "G = nx.Graph()\n",
    "cursor.execute(ALL_NODES)\n",
    "terms_info = cursor.fetchall()\n",
    "G.add_edges_from(terms_info)\n",
    "nt = Network('750px', '80%', cdn_resources='remote')\n",
    "nt.from_nx(G)\n",
    "nt.show_buttons()\n",
    "nt.show('test-buildLang.html', notebook=False)\n",
    "# nx.write_gml(G, \"test.gml\")"
   ]
  }
 ],
 "metadata": {
  "kernelspec": {
   "display_name": "Python 3",
   "language": "python",
   "name": "python3"
  },
  "language_info": {
   "codemirror_mode": {
    "name": "ipython",
    "version": 3
   },
   "file_extension": ".py",
   "mimetype": "text/x-python",
   "name": "python",
   "nbconvert_exporter": "python",
   "pygments_lexer": "ipython3",
   "version": "3.9.6"
  }
 },
 "nbformat": 4,
 "nbformat_minor": 2
}
